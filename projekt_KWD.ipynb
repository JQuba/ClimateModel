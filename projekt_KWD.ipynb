{
 "cells": [
  {
   "cell_type": "code",
   "execution_count": 2,
   "id": "eb1c199e",
   "metadata": {},
   "outputs": [
    {
     "name": "stderr",
     "output_type": "stream",
     "text": [
      "C:\\Users\\Kuba\\anaconda3\\Lib\\site-packages\\pandas\\core\\arrays\\masked.py:60: UserWarning: Pandas requires version '1.3.6' or newer of 'bottleneck' (version '1.3.5' currently installed).\n",
      "  from pandas.core import (\n"
     ]
    }
   ],
   "source": [
    "#Loading dataset\n",
    "\n",
    "import pandas as pd\n",
    "climate = pd.read_csv('C:/Users/Kuba/Desktop/projekt_KWD/pop_failures.dat', delimiter='\\s+')"
   ]
  },
  {
   "cell_type": "code",
   "execution_count": 3,
   "id": "34732486",
   "metadata": {},
   "outputs": [
    {
     "data": {
      "text/html": [
       "<div>\n",
       "<style scoped>\n",
       "    .dataframe tbody tr th:only-of-type {\n",
       "        vertical-align: middle;\n",
       "    }\n",
       "\n",
       "    .dataframe tbody tr th {\n",
       "        vertical-align: top;\n",
       "    }\n",
       "\n",
       "    .dataframe thead th {\n",
       "        text-align: right;\n",
       "    }\n",
       "</style>\n",
       "<table border=\"1\" class=\"dataframe\">\n",
       "  <thead>\n",
       "    <tr style=\"text-align: right;\">\n",
       "      <th></th>\n",
       "      <th>Study</th>\n",
       "      <th>Run</th>\n",
       "      <th>vconst_corr</th>\n",
       "      <th>vconst_2</th>\n",
       "      <th>vconst_3</th>\n",
       "      <th>vconst_4</th>\n",
       "      <th>vconst_5</th>\n",
       "      <th>vconst_7</th>\n",
       "      <th>ah_corr</th>\n",
       "      <th>ah_bolus</th>\n",
       "      <th>...</th>\n",
       "      <th>efficiency_factor</th>\n",
       "      <th>tidal_mix_max</th>\n",
       "      <th>vertical_decay_scale</th>\n",
       "      <th>convect_corr</th>\n",
       "      <th>bckgrnd_vdc1</th>\n",
       "      <th>bckgrnd_vdc_ban</th>\n",
       "      <th>bckgrnd_vdc_eq</th>\n",
       "      <th>bckgrnd_vdc_psim</th>\n",
       "      <th>Prandtl</th>\n",
       "      <th>outcome</th>\n",
       "    </tr>\n",
       "  </thead>\n",
       "  <tbody>\n",
       "    <tr>\n",
       "      <th>0</th>\n",
       "      <td>1</td>\n",
       "      <td>1</td>\n",
       "      <td>0.859036</td>\n",
       "      <td>0.927825</td>\n",
       "      <td>0.252866</td>\n",
       "      <td>0.298838</td>\n",
       "      <td>0.170521</td>\n",
       "      <td>0.735936</td>\n",
       "      <td>0.428325</td>\n",
       "      <td>0.567947</td>\n",
       "      <td>...</td>\n",
       "      <td>0.245675</td>\n",
       "      <td>0.104226</td>\n",
       "      <td>0.869091</td>\n",
       "      <td>0.997518</td>\n",
       "      <td>0.448620</td>\n",
       "      <td>0.307522</td>\n",
       "      <td>0.858310</td>\n",
       "      <td>0.796997</td>\n",
       "      <td>0.869893</td>\n",
       "      <td>0</td>\n",
       "    </tr>\n",
       "    <tr>\n",
       "      <th>1</th>\n",
       "      <td>1</td>\n",
       "      <td>2</td>\n",
       "      <td>0.606041</td>\n",
       "      <td>0.457728</td>\n",
       "      <td>0.359448</td>\n",
       "      <td>0.306957</td>\n",
       "      <td>0.843331</td>\n",
       "      <td>0.934851</td>\n",
       "      <td>0.444572</td>\n",
       "      <td>0.828015</td>\n",
       "      <td>...</td>\n",
       "      <td>0.616870</td>\n",
       "      <td>0.975786</td>\n",
       "      <td>0.914344</td>\n",
       "      <td>0.845247</td>\n",
       "      <td>0.864152</td>\n",
       "      <td>0.346713</td>\n",
       "      <td>0.356573</td>\n",
       "      <td>0.438447</td>\n",
       "      <td>0.512256</td>\n",
       "      <td>1</td>\n",
       "    </tr>\n",
       "    <tr>\n",
       "      <th>2</th>\n",
       "      <td>1</td>\n",
       "      <td>3</td>\n",
       "      <td>0.997600</td>\n",
       "      <td>0.373238</td>\n",
       "      <td>0.517399</td>\n",
       "      <td>0.504993</td>\n",
       "      <td>0.618903</td>\n",
       "      <td>0.605571</td>\n",
       "      <td>0.746225</td>\n",
       "      <td>0.195928</td>\n",
       "      <td>...</td>\n",
       "      <td>0.679355</td>\n",
       "      <td>0.803413</td>\n",
       "      <td>0.643995</td>\n",
       "      <td>0.718441</td>\n",
       "      <td>0.924775</td>\n",
       "      <td>0.315371</td>\n",
       "      <td>0.250642</td>\n",
       "      <td>0.285636</td>\n",
       "      <td>0.365858</td>\n",
       "      <td>1</td>\n",
       "    </tr>\n",
       "    <tr>\n",
       "      <th>3</th>\n",
       "      <td>1</td>\n",
       "      <td>4</td>\n",
       "      <td>0.783408</td>\n",
       "      <td>0.104055</td>\n",
       "      <td>0.197533</td>\n",
       "      <td>0.421837</td>\n",
       "      <td>0.742056</td>\n",
       "      <td>0.490828</td>\n",
       "      <td>0.005525</td>\n",
       "      <td>0.392123</td>\n",
       "      <td>...</td>\n",
       "      <td>0.471463</td>\n",
       "      <td>0.597879</td>\n",
       "      <td>0.761659</td>\n",
       "      <td>0.362751</td>\n",
       "      <td>0.912819</td>\n",
       "      <td>0.977971</td>\n",
       "      <td>0.845921</td>\n",
       "      <td>0.699431</td>\n",
       "      <td>0.475987</td>\n",
       "      <td>1</td>\n",
       "    </tr>\n",
       "    <tr>\n",
       "      <th>4</th>\n",
       "      <td>1</td>\n",
       "      <td>5</td>\n",
       "      <td>0.406250</td>\n",
       "      <td>0.513199</td>\n",
       "      <td>0.061812</td>\n",
       "      <td>0.635837</td>\n",
       "      <td>0.844798</td>\n",
       "      <td>0.441502</td>\n",
       "      <td>0.191926</td>\n",
       "      <td>0.487546</td>\n",
       "      <td>...</td>\n",
       "      <td>0.551543</td>\n",
       "      <td>0.743877</td>\n",
       "      <td>0.312349</td>\n",
       "      <td>0.650223</td>\n",
       "      <td>0.522261</td>\n",
       "      <td>0.043545</td>\n",
       "      <td>0.376660</td>\n",
       "      <td>0.280098</td>\n",
       "      <td>0.132283</td>\n",
       "      <td>1</td>\n",
       "    </tr>\n",
       "  </tbody>\n",
       "</table>\n",
       "<p>5 rows × 21 columns</p>\n",
       "</div>"
      ],
      "text/plain": [
       "   Study  Run  vconst_corr  vconst_2  vconst_3  vconst_4  vconst_5  vconst_7  \\\n",
       "0      1    1     0.859036  0.927825  0.252866  0.298838  0.170521  0.735936   \n",
       "1      1    2     0.606041  0.457728  0.359448  0.306957  0.843331  0.934851   \n",
       "2      1    3     0.997600  0.373238  0.517399  0.504993  0.618903  0.605571   \n",
       "3      1    4     0.783408  0.104055  0.197533  0.421837  0.742056  0.490828   \n",
       "4      1    5     0.406250  0.513199  0.061812  0.635837  0.844798  0.441502   \n",
       "\n",
       "    ah_corr  ah_bolus  ...  efficiency_factor  tidal_mix_max  \\\n",
       "0  0.428325  0.567947  ...           0.245675       0.104226   \n",
       "1  0.444572  0.828015  ...           0.616870       0.975786   \n",
       "2  0.746225  0.195928  ...           0.679355       0.803413   \n",
       "3  0.005525  0.392123  ...           0.471463       0.597879   \n",
       "4  0.191926  0.487546  ...           0.551543       0.743877   \n",
       "\n",
       "   vertical_decay_scale  convect_corr  bckgrnd_vdc1  bckgrnd_vdc_ban  \\\n",
       "0              0.869091      0.997518      0.448620         0.307522   \n",
       "1              0.914344      0.845247      0.864152         0.346713   \n",
       "2              0.643995      0.718441      0.924775         0.315371   \n",
       "3              0.761659      0.362751      0.912819         0.977971   \n",
       "4              0.312349      0.650223      0.522261         0.043545   \n",
       "\n",
       "   bckgrnd_vdc_eq  bckgrnd_vdc_psim   Prandtl  outcome  \n",
       "0        0.858310          0.796997  0.869893        0  \n",
       "1        0.356573          0.438447  0.512256        1  \n",
       "2        0.250642          0.285636  0.365858        1  \n",
       "3        0.845921          0.699431  0.475987        1  \n",
       "4        0.376660          0.280098  0.132283        1  \n",
       "\n",
       "[5 rows x 21 columns]"
      ]
     },
     "execution_count": 3,
     "metadata": {},
     "output_type": "execute_result"
    }
   ],
   "source": [
    "climate.head()"
   ]
  },
  {
   "cell_type": "code",
   "execution_count": 4,
   "id": "dda6dde5",
   "metadata": {},
   "outputs": [
    {
     "name": "stdout",
     "output_type": "stream",
     "text": [
      "<class 'pandas.core.frame.DataFrame'>\n",
      "RangeIndex: 540 entries, 0 to 539\n",
      "Data columns (total 21 columns):\n",
      " #   Column                Non-Null Count  Dtype  \n",
      "---  ------                --------------  -----  \n",
      " 0   Study                 540 non-null    int64  \n",
      " 1   Run                   540 non-null    int64  \n",
      " 2   vconst_corr           540 non-null    float64\n",
      " 3   vconst_2              540 non-null    float64\n",
      " 4   vconst_3              540 non-null    float64\n",
      " 5   vconst_4              540 non-null    float64\n",
      " 6   vconst_5              540 non-null    float64\n",
      " 7   vconst_7              540 non-null    float64\n",
      " 8   ah_corr               540 non-null    float64\n",
      " 9   ah_bolus              540 non-null    float64\n",
      " 10  slm_corr              540 non-null    float64\n",
      " 11  efficiency_factor     540 non-null    float64\n",
      " 12  tidal_mix_max         540 non-null    float64\n",
      " 13  vertical_decay_scale  540 non-null    float64\n",
      " 14  convect_corr          540 non-null    float64\n",
      " 15  bckgrnd_vdc1          540 non-null    float64\n",
      " 16  bckgrnd_vdc_ban       540 non-null    float64\n",
      " 17  bckgrnd_vdc_eq        540 non-null    float64\n",
      " 18  bckgrnd_vdc_psim      540 non-null    float64\n",
      " 19  Prandtl               540 non-null    float64\n",
      " 20  outcome               540 non-null    int64  \n",
      "dtypes: float64(18), int64(3)\n",
      "memory usage: 88.7 KB\n"
     ]
    }
   ],
   "source": [
    "climate.info()"
   ]
  },
  {
   "cell_type": "code",
   "execution_count": 33,
   "id": "1cb35aa5",
   "metadata": {},
   "outputs": [
    {
     "name": "stdout",
     "output_type": "stream",
     "text": [
      "(540, 18)\n",
      "(540,)\n"
     ]
    }
   ],
   "source": [
    "#Shape of feature and targets\n",
    "\n",
    "data = climate.iloc[:,2:-1]\n",
    "target = climate.iloc[:,-1]\n",
    "print(data.shape)\n",
    "print(target.shape)"
   ]
  },
  {
   "cell_type": "code",
   "execution_count": 34,
   "id": "8679408c",
   "metadata": {},
   "outputs": [
    {
     "name": "stdout",
     "output_type": "stream",
     "text": [
      "Liczba badan zakonczonych porazka: 46\n",
      "Liczba badan zakonczonych sukcesem: 494\n",
      "\n",
      "Procent badan zakonczonych porazka: 8.52%\n",
      "Procent badan zakonczonych sukcesem: 91.48%\n"
     ]
    }
   ],
   "source": [
    "#Plotting number of targets based on prediction (failure or success)\n",
    "\n",
    "import numpy as np\n",
    "failure = np.count_nonzero(climate['outcome'] == 0)\n",
    "success = np.count_nonzero(climate['outcome'] == 1)\n",
    "\n",
    "print(f\"Liczba badan zakonczonych porazka: {failure}\")\n",
    "print(f\"Liczba badan zakonczonych sukcesem: {success}\\n\")\n",
    "print(f\"Procent badan zakonczonych porazka: {round(failure/len(target)*100, 2)}%\")\n",
    "print(f\"Procent badan zakonczonych sukcesem: {round(success/len(target)*100, 2)}%\")"
   ]
  },
  {
   "cell_type": "code",
   "execution_count": 35,
   "id": "aeb313d4",
   "metadata": {},
   "outputs": [
    {
     "name": "stderr",
     "output_type": "stream",
     "text": [
      "C:\\Users\\Kuba\\AppData\\Local\\Temp\\ipykernel_17568\\1766039342.py:4: FutureWarning: \n",
      "\n",
      "Passing `palette` without assigning `hue` is deprecated and will be removed in v0.14.0. Assign the `x` variable to `hue` and set `legend=False` for the same effect.\n",
      "\n",
      "  sns.countplot(x='outcome', data=climate, palette='RdBu')\n"
     ]
    },
    {
     "data": {
      "image/png": "[encoded data removed]",
      "text/plain": [
       "<Figure size 640x480 with 1 Axes>"
      ]
     },
     "metadata": {},
     "output_type": "display_data"
    }
   ],
   "source": [
    "import matplotlib.pyplot as plt\n",
    "import seaborn as sns\n",
    "\n",
    "sns.countplot(x='outcome', data=climate, palette='RdBu')\n",
    "plt.title('Wyniki badań')\n",
    "plt.show()"
   ]
  },
  {
   "cell_type": "code",
   "execution_count": 47,
   "id": "bb4e4440",
   "metadata": {},
   "outputs": [
    {
     "name": "stdout",
     "output_type": "stream",
     "text": [
      "---Mean---\n",
      "vconst_corr             0.500026\n",
      "vconst_2                0.500097\n",
      "vconst_3                0.500027\n",
      "vconst_4                0.500119\n",
      "vconst_5                0.500001\n",
      "vconst_7                0.499913\n",
      "ah_corr                 0.500059\n",
      "ah_bolus                0.500076\n",
      "slm_corr                0.500044\n",
      "efficiency_factor       0.500111\n",
      "tidal_mix_max           0.499984\n",
      "vertical_decay_scale    0.500032\n",
      "convect_corr            0.499933\n",
      "bckgrnd_vdc1            0.499944\n",
      "bckgrnd_vdc_ban         0.499946\n",
      "bckgrnd_vdc_eq          0.500044\n",
      "bckgrnd_vdc_psim        0.500020\n",
      "Prandtl                 0.500021\n",
      "dtype: float64\n",
      "---std---\n",
      "vconst_corr             0.288939\n",
      "vconst_2                0.288922\n",
      "vconst_3                0.289067\n",
      "vconst_4                0.288993\n",
      "vconst_5                0.288827\n",
      "vconst_7                0.288852\n",
      "ah_corr                 0.289010\n",
      "ah_bolus                0.288909\n",
      "slm_corr                0.288860\n",
      "efficiency_factor       0.288966\n",
      "tidal_mix_max           0.289127\n",
      "vertical_decay_scale    0.289014\n",
      "convect_corr            0.288822\n",
      "bckgrnd_vdc1            0.288949\n",
      "bckgrnd_vdc_ban         0.288923\n",
      "bckgrnd_vdc_eq          0.288813\n",
      "bckgrnd_vdc_psim        0.288936\n",
      "Prandtl                 0.289013\n",
      "dtype: float64\n"
     ]
    }
   ],
   "source": [
    "# Mean and Standard Deviation\n",
    "print(\"---Mean---\")\n",
    "print(data.mean(axis=0))\n",
    "print(\"---std---\")\n",
    "print(data.std(axis=0))"
   ]
  },
  {
   "cell_type": "code",
   "execution_count": 48,
   "id": "730f789f",
   "metadata": {},
   "outputs": [],
   "source": [
    "from sklearn.preprocessing import StandardScaler\n",
    "\n",
    "scaler = StandardScaler()\n",
    "scaled_data = scaler.fit_transform(data)"
   ]
  },
  {
   "cell_type": "code",
   "execution_count": 49,
   "id": "41dbfcf3",
   "metadata": {},
   "outputs": [
    {
     "name": "stdout",
     "output_type": "stream",
     "text": [
      "[ 0.36725022 -0.14677799 -0.48677076 -0.66901575  1.18980639  1.50713966\n",
      " -0.19216597  1.13614635 -0.7048917   0.4044324   1.64717483  1.43486725\n",
      "  1.19670398  1.26162865 -0.53085016 -0.49722074 -0.21329849  0.04237293]\n",
      "[-4.88498131e-16  5.09880204e-17  5.83895072e-17 -3.56916143e-16\n",
      " -1.29114826e-16  8.88178420e-17 -3.94745964e-17 -6.57909941e-18\n",
      " -2.46716228e-16  1.31581988e-16 -4.93432455e-18  1.52964061e-16\n",
      " -1.16779014e-16  3.43346750e-16  9.53969414e-17 -2.53295327e-16\n",
      "  8.88178420e-17  9.04626168e-17]\n",
      "[1. 1. 1. 1. 1. 1. 1. 1. 1. 1. 1. 1. 1. 1. 1. 1. 1. 1.]\n"
     ]
    }
   ],
   "source": [
    "print(scaled_data[1,:])\n",
    "print(scaled_data.mean(axis=0))\n",
    "print(scaled_data.std(axis=0))"
   ]
  },
  {
   "cell_type": "code",
   "execution_count": 50,
   "id": "48255d14",
   "metadata": {},
   "outputs": [],
   "source": [
    "# Splitting\n",
    "\n",
    "from sklearn.model_selection import train_test_split\n",
    "\n",
    "climate_train_data, climate_test_data, \\\n",
    "climate_train_target, climate_test_target = \\\n",
    "train_test_split(scaled_data, target, test_size=0.2)"
   ]
  },
  {
   "cell_type": "code",
   "execution_count": 51,
   "id": "8ec8fb77",
   "metadata": {},
   "outputs": [
    {
     "name": "stdout",
     "output_type": "stream",
     "text": [
      "Training dataset: \n",
      "(432, 18)\n",
      "(432,)\n",
      "Testing dataset: \n",
      "(108, 18)\n",
      "(108,)\n"
     ]
    }
   ],
   "source": [
    "print(\"Training dataset: \")\n",
    "print(climate_train_data.shape)\n",
    "print(climate_train_target.shape)\n",
    "\n",
    "print(\"Testing dataset: \")\n",
    "print(climate_test_data.shape)\n",
    "print(climate_test_target.shape)"
   ]
  },
  {
   "cell_type": "code",
   "execution_count": 52,
   "id": "f1c91c80",
   "metadata": {},
   "outputs": [
    {
     "data": {
      "text/html": [
       "<style>#sk-container-id-1 {color: black;}#sk-container-id-1 pre{padding: 0;}#sk-container-id-1 div.sk-toggleable {background-color: white;}#sk-container-id-1 label.sk-toggleable__label {cursor: pointer;display: block;width: 100%;margin-bottom: 0;padding: 0.3em;box-sizing: border-box;text-align: center;}#sk-container-id-1 label.sk-toggleable__label-arrow:before {content: \"▸\";float: left;margin-right: 0.25em;color: #696969;}#sk-container-id-1 label.sk-toggleable__label-arrow:hover:before {color: black;}#sk-container-id-1 div.sk-estimator:hover label.sk-toggleable__label-arrow:before {color: black;}#sk-container-id-1 div.sk-toggleable__content {max-height: 0;max-width: 0;overflow: hidden;text-align: left;background-color: #f0f8ff;}#sk-container-id-1 div.sk-toggleable__content pre {margin: 0.2em;color: black;border-radius: 0.25em;background-color: #f0f8ff;}#sk-container-id-1 input.sk-toggleable__control:checked~div.sk-toggleable__content {max-height: 200px;max-width: 100%;overflow: auto;}#sk-container-id-1 input.sk-toggleable__control:checked~label.sk-toggleable__label-arrow:before {content: \"▾\";}#sk-container-id-1 div.sk-estimator input.sk-toggleable__control:checked~label.sk-toggleable__label {background-color: #d4ebff;}#sk-container-id-1 div.sk-label input.sk-toggleable__control:checked~label.sk-toggleable__label {background-color: #d4ebff;}#sk-container-id-1 input.sk-hidden--visually {border: 0;clip: rect(1px 1px 1px 1px);clip: rect(1px, 1px, 1px, 1px);height: 1px;margin: -1px;overflow: hidden;padding: 0;position: absolute;width: 1px;}#sk-container-id-1 div.sk-estimator {font-family: monospace;background-color: #f0f8ff;border: 1px dotted black;border-radius: 0.25em;box-sizing: border-box;margin-bottom: 0.5em;}#sk-container-id-1 div.sk-estimator:hover {background-color: #d4ebff;}#sk-container-id-1 div.sk-parallel-item::after {content: \"\";width: 100%;border-bottom: 1px solid gray;flex-grow: 1;}#sk-container-id-1 div.sk-label:hover label.sk-toggleable__label {background-color: #d4ebff;}#sk-container-id-1 div.sk-serial::before {content: \"\";position: absolute;border-left: 1px solid gray;box-sizing: border-box;top: 0;bottom: 0;left: 50%;z-index: 0;}#sk-container-id-1 div.sk-serial {display: flex;flex-direction: column;align-items: center;background-color: white;padding-right: 0.2em;padding-left: 0.2em;position: relative;}#sk-container-id-1 div.sk-item {position: relative;z-index: 1;}#sk-container-id-1 div.sk-parallel {display: flex;align-items: stretch;justify-content: center;background-color: white;position: relative;}#sk-container-id-1 div.sk-item::before, #sk-container-id-1 div.sk-parallel-item::before {content: \"\";position: absolute;border-left: 1px solid gray;box-sizing: border-box;top: 0;bottom: 0;left: 50%;z-index: -1;}#sk-container-id-1 div.sk-parallel-item {display: flex;flex-direction: column;z-index: 1;position: relative;background-color: white;}#sk-container-id-1 div.sk-parallel-item:first-child::after {align-self: flex-end;width: 50%;}#sk-container-id-1 div.sk-parallel-item:last-child::after {align-self: flex-start;width: 50%;}#sk-container-id-1 div.sk-parallel-item:only-child::after {width: 0;}#sk-container-id-1 div.sk-dashed-wrapped {border: 1px dashed gray;margin: 0 0.4em 0.5em 0.4em;box-sizing: border-box;padding-bottom: 0.4em;background-color: white;}#sk-container-id-1 div.sk-label label {font-family: monospace;font-weight: bold;display: inline-block;line-height: 1.2em;}#sk-container-id-1 div.sk-label-container {text-align: center;}#sk-container-id-1 div.sk-container {/* jupyter's `normalize.less` sets `[hidden] { display: none; }` but bootstrap.min.css set `[hidden] { display: none !important; }` so we also need the `!important` here to be able to override the default hidden behavior on the sphinx rendered scikit-learn.org. See: https://github.com/scikit-learn/scikit-learn/issues/21755 */display: inline-block !important;position: relative;}#sk-container-id-1 div.sk-text-repr-fallback {display: none;}</style><div id=\"sk-container-id-1\" class=\"sk-top-container\"><div class=\"sk-text-repr-fallback\"><pre>LogisticRegression()</pre><b>In a Jupyter environment, please rerun this cell to show the HTML representation or trust the notebook. <br />On GitHub, the HTML representation is unable to render, please try loading this page with nbviewer.org.</b></div><div class=\"sk-container\" hidden><div class=\"sk-item\"><div class=\"sk-estimator sk-toggleable\"><input class=\"sk-toggleable__control sk-hidden--visually\" id=\"sk-estimator-id-1\" type=\"checkbox\" checked><label for=\"sk-estimator-id-1\" class=\"sk-toggleable__label sk-toggleable__label-arrow\">LogisticRegression</label><div class=\"sk-toggleable__content\"><pre>LogisticRegression()</pre></div></div></div></div></div>"
      ],
      "text/plain": [
       "LogisticRegression()"
      ]
     },
     "execution_count": 52,
     "metadata": {},
     "output_type": "execute_result"
    }
   ],
   "source": [
    "# Logistic Regression\n",
    "\n",
    "from sklearn.linear_model import LogisticRegression\n",
    "\n",
    "logistic_regression = LogisticRegression()\n",
    "logistic_regression.fit(climate_train_data, climate_train_target)"
   ]
  },
  {
   "cell_type": "code",
   "execution_count": 75,
   "id": "95185760",
   "metadata": {},
   "outputs": [
    {
     "name": "stdout",
     "output_type": "stream",
     "text": [
      "Predykcja dla 40 symulacji: [1]\n",
      "Prawdziwa wartosc dla 40 symulacji: 1\n",
      "\n",
      "Predykcja dla 80 symulacji: [1]\n",
      "Prawdziwa wartosc dla 80 symulacji: 1\n",
      "\n"
     ]
    }
   ],
   "source": [
    "# Prediction\n",
    "\n",
    "prediction = logistic_regression.predict(climate_test_data[40,:].reshape(1,-1))\n",
    "print(f\"Predykcja dla {40} symulacji: {prediction}\")\n",
    "print(f\"Prawdziwa wartosc dla {40} symulacji: {climate_test_target[40]}\\n\")\n",
    "\n",
    "prediction = logistic_regression.predict(climate_test_data[80,:].reshape(1,-1))\n",
    "print(f\"Predykcja dla {80} symulacji: {prediction}\")\n",
    "print(f\"Prawdziwa wartosc dla {80} symulacji: {climate_test_target[80]}\\n\")"
   ]
  },
  {
   "cell_type": "code",
   "execution_count": 76,
   "id": "898db4bc",
   "metadata": {},
   "outputs": [
    {
     "name": "stdout",
     "output_type": "stream",
     "text": [
      "[[0.00859817 0.99140183]]\n"
     ]
    }
   ],
   "source": [
    "# Prediction probability\n",
    "\n",
    "prediction_probability = logistic_regression.predict_proba(climate_test_data[11,:].reshape(1,-1))\n",
    "print(prediction_probability)"
   ]
  },
  {
   "cell_type": "code",
   "execution_count": 77,
   "id": "3c3491d2",
   "metadata": {},
   "outputs": [
    {
     "name": "stdout",
     "output_type": "stream",
     "text": [
      "Model accuracy: 0.9444444444444444\n"
     ]
    }
   ],
   "source": [
    "from sklearn.metrics import accuracy_score\n",
    "\n",
    "acc = accuracy_score(climate_test_target, logistic_regression.predict(climate_test_data))\n",
    "print(f\"Model accuracy: {acc}\")"
   ]
  },
  {
   "cell_type": "code",
   "execution_count": 82,
   "id": "3e8a10a9",
   "metadata": {},
   "outputs": [
    {
     "name": "stdout",
     "output_type": "stream",
     "text": [
      "Confusion Matrix: \n",
      " [[ 5  5]\n",
      " [ 1 97]] \n",
      "\n",
      "True Negative: 5\n",
      "False Positive: 5\n",
      "False Negative: 1\n",
      "True Positive: 97\n",
      "Correct predixtions:  94.4 %\n"
     ]
    }
   ],
   "source": [
    "from sklearn.metrics import confusion_matrix\n",
    "\n",
    "conf_matrix = confusion_matrix(climate_test_target, logistic_regression.predict(climate_test_data))\n",
    "\n",
    "true_negative = conf_matrix[0][0]\n",
    "false_positive = conf_matrix[0][1]\n",
    "false_negative = conf_matrix[1][0]\n",
    "true_positive = conf_matrix[1][1]\n",
    "\n",
    "print(f\"Confusion Matrix: \\n {conf_matrix} \\n\")\n",
    "\n",
    "print(f\"True Negative: {true_negative}\")\n",
    "print(f\"False Positive: {false_positive}\")\n",
    "print(f\"False Negative: {false_negative}\")\n",
    "print(f\"True Positive: {true_positive}\")\n",
    "\n",
    "print(\"Correct predixtions: \", \n",
    "      round((true_negative + true_positive) / (true_negative + true_positive + false_negative + false_positive) * 100, 1), \"%\")"
   ]
  },
  {
   "cell_type": "code",
   "execution_count": 84,
   "id": "ff4dbe71",
   "metadata": {},
   "outputs": [
    {
     "name": "stdout",
     "output_type": "stream",
     "text": [
      "0.945021645021645\n"
     ]
    }
   ],
   "source": [
    "from sklearn.model_selection import cross_val_score\n",
    "\n",
    "score = cross_val_score(LogisticRegression(), climate_test_data, climate_test_target)\n",
    "print(score.mean())"
   ]
  }
 ],
 "metadata": {
  "kernelspec": {
   "display_name": "Python 3 (ipykernel)",
   "language": "python",
   "name": "python3"
  },
  "language_info": {
   "codemirror_mode": {
    "name": "ipython",
    "version": 3
   },
   "file_extension": ".py",
   "mimetype": "text/x-python",
   "name": "python",
   "nbconvert_exporter": "python",
   "pygments_lexer": "ipython3",
   "version": "3.11.5"
  }
 },
 "nbformat": 4,
 "nbformat_minor": 5
}
